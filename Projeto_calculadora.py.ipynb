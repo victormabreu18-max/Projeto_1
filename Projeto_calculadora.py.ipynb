{
  "nbformat": 4,
  "nbformat_minor": 0,
  "metadata": {
    "colab": {
      "provenance": []
    },
    "kernelspec": {
      "name": "python3",
      "display_name": "Python 3"
    },
    "language_info": {
      "name": "python"
    }
  },
  "cells": [
    {
      "cell_type": "code",
      "execution_count": 7,
      "metadata": {
        "colab": {
          "base_uri": "https://localhost:8080/"
        },
        "id": "CnZFmW8Qa_tu",
        "outputId": "385c82f9-48ac-47a6-b308-18ffc5e938e9"
      },
      "outputs": [
        {
          "output_type": "stream",
          "name": "stdout",
          "text": [
            "Olá como você se chama? Victor\n",
            "Victor vamos realizar alguns calculos!\n",
            "Digite um numero: 5\n",
            "Digite outro numero: 3\n",
            "Agora informa qual operação deseja realizar. (+, -, *, /): +\n",
            "O resultado é: 8\n"
          ]
        }
      ],
      "source": [
        "nome = input('Olá como você se chama? ')\n",
        "print(nome + ' vamos realizar alguns calculos!')\n",
        "num1 = int(input('Digite um numero: '))\n",
        "num2 = int(input('Digite outro numero: '))\n",
        "\n",
        "def somar(num1, num2):\n",
        "    return num1 + num2\n",
        "def subtrair(num1, num2):\n",
        "    return num1 - num2\n",
        "def multiplicar(num1, num2):\n",
        "    return num1 * num2\n",
        "def dividir(num1, num2):\n",
        "    return num1 / num2\n",
        "operacao = input('Agora informa qual operação deseja realizar. (+, -, *, /): ')\n",
        "\n",
        "if operacao == \"+\":\n",
        "  resultado = somar(num1, num2)\n",
        "elif operacao == \"-\":\n",
        "  resultado = subtrair(num1, num2)\n",
        "elif operacao == \"*\":\n",
        "  resultado = multiplicar(num1, num2)\n",
        "elif operacao == \"/\":\n",
        "  resultado = dividir(num1, num2)\n",
        "print ('O resultado é:', resultado)\n",
        "\n"
      ]
    }
  ]
}